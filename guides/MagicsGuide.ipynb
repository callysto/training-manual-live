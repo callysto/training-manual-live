{
 "cells": [
  {
   "cell_type": "markdown",
   "metadata": {},
   "source": [
    "# How to Use Custom Line/Cell Magic\n",
    "### Quick Introduction to Magic Commands\n",
    "IPython offers special functions called magic commands. These commands allow the user to quickly use special features within a Jupyter cell. To call these commands we use ``` % ``` for a single line magic or ``` %% ``` for an entire cell magic, for example using ```%lsmagic``` will show all the available built in magic functions. **try it now!**"
   ]
  },
  {
   "cell_type": "code",
   "execution_count": null,
   "metadata": {},
   "outputs": [],
   "source": [
    "%lsmagic"
   ]
  },
  {
   "cell_type": "markdown",
   "metadata": {},
   "source": [
    "Another very useful magic command is the ``` %%html ``` cell magic. This magic command turns an entire code cell into a fully functioning html cell. **Check it out!**"
   ]
  },
  {
   "cell_type": "code",
   "execution_count": null,
   "metadata": {},
   "outputs": [],
   "source": [
    "%%html\n",
    "<div>\n",
    "    <h1>Hello, world!</h1>\n",
    "</div>"
   ]
  },
  {
   "cell_type": "markdown",
   "metadata": {},
   "source": [
    "### Cusom Magic Commands\n",
    "One very powerful aspect to magic commands is the ability to create our own custom magic commands. In this example we will see how easily we can import and use a custom magic command we have created. The first thing to keep in mind is that we need to keep the [filename.py] file within the same directory as the Jupyter notebook that will be importing it. Once this is done we can simply use the ```import [filename.py]``` than use any of the custom magic commands included within that file. For this example we have a custom magic file called \"_uiButtons.py_\", within this file we have a line magic command also called uiButtons. After we have imported the library we can simply call ```%uiButtons``` to use our custom magic. **Try it in the next cell!**"
   ]
  },
  {
   "cell_type": "code",
   "execution_count": null,
   "metadata": {
    "scrolled": true
   },
   "outputs": [],
   "source": [
    "import uiButtons\n",
    "%uiButtons"
   ]
  },
  {
   "cell_type": "markdown",
   "metadata": {},
   "source": [
    "Now you see that our ```%uiButtons``` line magic adds two buttons, one to toggle showing/hiding the code cells and the other to initialize (run) all remaining code cells within one click."
   ]
  },
  {
   "cell_type": "code",
   "execution_count": null,
   "metadata": {},
   "outputs": [],
   "source": [
    "#Python code\n",
    "print('hello, world')"
   ]
  },
  {
   "cell_type": "markdown",
   "metadata": {},
   "source": [
    "### Adding Custom Magic Commands\n",
    "Now that we have a file which we can import, it is easy to add new line or cell magic commands. To do this we need to open the .py file, in our case the \"_uiButtons.py_\". Within this file there is a main class defined for all the magics. To make new ones simply define them within the class definition. See example below."
   ]
  },
  {
   "cell_type": "markdown",
   "metadata": {},
   "source": [
    "```python\n",
    "#Custom magic functions, to use call 'import uiButtons' in a cell\n",
    "#once the library has been imported magic commands may be used\n",
    "#eg. %uiButtons\n",
    "\n",
    "from __future__ import print_function\n",
    "from IPython.core.magic import Magics, magics_class, line_magic\n",
    "from IPython import get_ipython\n",
    "\n",
    "@magics_class\n",
    "class MyMagics(Magics):\n",
    "\n",
    "    #When run it initilizes the 'show/hide code' buttons and the 'initialize' button\n",
    "    @line_magic\n",
    "    def uiButtons(self, line):\n",
    "        raw_code = '''%%html\n",
    "                    <script>\n",
    "                    document.getElementById('toggleButton').onclick = function () {\n",
    "                        if (code_shown) {\n",
    "                            $('div.input').hide('500');\n",
    "                            $('#toggleButton').val('Show Code')\n",
    "                        } else {\n",
    "                            $('div.input').show('500');\n",
    "                            $('#toggleButton').val('Hide Code')\n",
    "                        }\n",
    "                        code_shown = !code_shown\n",
    "                    }\n",
    "\n",
    "                    document.getElementById('init').onclick = function () {\n",
    "                        runAll = document.getElementById('run_all_cells_below').childNodes[1]\n",
    "                        console.log(runAll)\n",
    "                        runAll.click()\n",
    "                    }\n",
    "\n",
    "                    $(document).ready(function () {\n",
    "                        code_shown = true;\n",
    "                        $('div.input').hide()\n",
    "                    });\n",
    "                </script>\n",
    "                <input type=\"submit\" id=\"toggleButton\" value=\"Show Code\">\n",
    "                <input id=\"init\" type=\"submit\" value=\"Initialize\">'''\n",
    "\n",
    "        self.shell.run_cell(raw_code, store_history=False)\n",
    "             \n",
    "    @line_magic\n",
    "    def helloWorld(self, line):\n",
    "        print('hello, world!')\n",
    "\n",
    "ip = get_ipython()\n",
    "ip.register_magics(MyMagics)\n",
    "```"
   ]
  },
  {
   "cell_type": "markdown",
   "metadata": {},
   "source": [
    "Notice in the example above we have added our own custom line magic \"_helloWorld_\". \n",
    "\n",
    "For more information about IPython magic commads [click here](http://ipython.readthedocs.io/en/stable/interactive/magics.html)"
   ]
  }
 ],
 "metadata": {
  "kernelspec": {
   "display_name": "Python 3",
   "language": "python",
   "name": "python3"
  },
  "language_info": {
   "codemirror_mode": {
    "name": "ipython",
    "version": 3
   },
   "file_extension": ".py",
   "mimetype": "text/x-python",
   "name": "python",
   "nbconvert_exporter": "python",
   "pygments_lexer": "ipython3",
   "version": "3.6.5"
  }
 },
 "nbformat": 4,
 "nbformat_minor": 2
}
