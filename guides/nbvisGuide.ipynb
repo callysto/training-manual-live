{
 "cells": [
  {
   "cell_type": "markdown",
   "metadata": {},
   "source": [
    "![](images/Callysto_Notebook-Banner_Top.jpg)"
   ]
  },
  {
   "cell_type": "markdown",
   "metadata": {},
   "source": [
    "# Using nbvis"
   ]
  },
  {
   "cell_type": "markdown",
   "metadata": {},
   "source": [
    "This notebook is a supplement to the nbvis documentation [here](). Here we use the `%%d3` magic, a `D3` object class instance, and the `Visualize` object to construct an interactive slider."
   ]
  },
  {
   "cell_type": "markdown",
   "metadata": {},
   "source": [
    "### 1. Import nbvis"
   ]
  },
  {
   "cell_type": "code",
   "execution_count": 1,
   "metadata": {
    "collapsed": true
   },
   "outputs": [],
   "source": [
    "import nbvis.magics\n",
    "from nbvis.classes import D3, Vis"
   ]
  },
  {
   "cell_type": "markdown",
   "metadata": {},
   "source": [
    "### 2. Add code with magics"
   ]
  },
  {
   "cell_type": "markdown",
   "metadata": {},
   "source": [
    "The `%%d3` magic makes your JavaScript code visible to Python."
   ]
  },
  {
   "cell_type": "markdown",
   "metadata": {},
   "source": [
    "Code cells beginning with one of these magics are added to a \"visualization stack,\" which preserves their order. We can immediately call one of these cells by using `%%d3 -rn` or `%%mathbox -rn` instead. Code that is run using the `-rn` flag is excluded from the stack. To reset the _entire_ stack when re-running a cell, use the `-r` or `--reset` flag."
   ]
  },
  {
   "cell_type": "code",
   "execution_count": 2,
   "metadata": {},
   "outputs": [
    {
     "data": {
      "application/javascript": [
       "requirejs.config({\n",
       "    paths: {\"d3-require\": \"//unpkg.com/d3-require@1.0.4/dist/d3-require.min\", \"topojson\": \"//unpkg.com/topojson-client@3?\", \"mathBox\": \"//cdn.rawgit.com/unconed/mathbox/eaeb8e15/build/mathbox-bundle\"}\n",
       "});\n",
       "\n",
       "requirejs(['d3-require', 'topojson', 'mathBox'], (d3, topojson) => {\n",
       "    d3.require(...['d3-array', 'd3-axis', 'd3-brush', 'd3-chord', 'd3-collection', 'd3-color', 'd3-contour', 'd3-dispatch', 'd3-drag', 'd3-dsv', 'd3-ease', 'd3-fetch', 'd3-force', 'd3-format', 'd3-geo', 'd3-hierarchy', 'd3-interpolate', 'd3-path', 'd3-polygon', 'd3-quadtree', 'd3-random', 'd3-scale', 'd3-scale-chromatic', 'd3-selection', 'd3-shape', 'd3-time', 'd3-time-format', 'd3-timer', 'd3-transition', 'd3-voronoi', 'd3-zoom']).then(d3 => {\n",
       "        var text = \"Hello World!\";\n",
       "element.text(text);\n",
       "    });\n",
       "});\n"
      ],
      "text/plain": [
       "<IPython.core.display.Javascript object>"
      ]
     },
     "metadata": {},
     "output_type": "display_data"
    }
   ],
   "source": [
    "%%d3 --now\n",
    "var text = \"Hello World!\";\n",
    "element.text(text);"
   ]
  },
  {
   "cell_type": "markdown",
   "metadata": {},
   "source": [
    "Duplicate code is detected."
   ]
  },
  {
   "cell_type": "code",
   "execution_count": 3,
   "metadata": {},
   "outputs": [
    {
     "name": "stdout",
     "output_type": "stream",
     "text": [
      "Initialized d3_code container!\n",
      "Code added to D3 visualization queue ...\n"
     ]
    },
    {
     "data": {
      "application/javascript": [
       "requirejs.config({\n",
       "    paths: {\"d3-require\": \"//unpkg.com/d3-require@1.0.4/dist/d3-require.min\", \"topojson\": \"//unpkg.com/topojson-client@3?\", \"mathBox\": \"//cdn.rawgit.com/unconed/mathbox/eaeb8e15/build/mathbox-bundle\"}\n",
       "});\n",
       "\n",
       "requirejs(['d3-require', 'topojson', 'mathBox'], (d3, topojson) => {\n",
       "    d3.require(...['d3-array', 'd3-axis', 'd3-brush', 'd3-chord', 'd3-collection', 'd3-color', 'd3-contour', 'd3-dispatch', 'd3-drag', 'd3-dsv', 'd3-ease', 'd3-fetch', 'd3-force', 'd3-format', 'd3-geo', 'd3-hierarchy', 'd3-interpolate', 'd3-path', 'd3-polygon', 'd3-quadtree', 'd3-random', 'd3-scale', 'd3-scale-chromatic', 'd3-selection', 'd3-shape', 'd3-time', 'd3-time-format', 'd3-timer', 'd3-transition', 'd3-voronoi', 'd3-zoom']).then(d3 => {\n",
       "        var x = 2;\n",
       "    });\n",
       "});\n"
      ],
      "text/plain": [
       "<IPython.core.display.Javascript object>"
      ]
     },
     "metadata": {},
     "output_type": "display_data"
    }
   ],
   "source": [
    "%%d3 --reset --queue\n",
    "var x = 2;"
   ]
  },
  {
   "cell_type": "code",
   "execution_count": 4,
   "metadata": {},
   "outputs": [
    {
     "name": "stdout",
     "output_type": "stream",
     "text": [
      "Duplicate code not added to D3 visualization queue ...\n"
     ]
    },
    {
     "data": {
      "application/javascript": [
       "requirejs.config({\n",
       "    paths: {\"d3-require\": \"//unpkg.com/d3-require@1.0.4/dist/d3-require.min\", \"topojson\": \"//unpkg.com/topojson-client@3?\", \"mathBox\": \"//cdn.rawgit.com/unconed/mathbox/eaeb8e15/build/mathbox-bundle\"}\n",
       "});\n",
       "\n",
       "requirejs(['d3-require', 'topojson', 'mathBox'], (d3, topojson) => {\n",
       "    d3.require(...['d3-array', 'd3-axis', 'd3-brush', 'd3-chord', 'd3-collection', 'd3-color', 'd3-contour', 'd3-dispatch', 'd3-drag', 'd3-dsv', 'd3-ease', 'd3-fetch', 'd3-force', 'd3-format', 'd3-geo', 'd3-hierarchy', 'd3-interpolate', 'd3-path', 'd3-polygon', 'd3-quadtree', 'd3-random', 'd3-scale', 'd3-scale-chromatic', 'd3-selection', 'd3-shape', 'd3-time', 'd3-time-format', 'd3-timer', 'd3-transition', 'd3-voronoi', 'd3-zoom']).then(d3 => {\n",
       "        var x = 2;\n",
       "    });\n",
       "});\n"
      ],
      "text/plain": [
       "<IPython.core.display.Javascript object>"
      ]
     },
     "metadata": {},
     "output_type": "display_data"
    }
   ],
   "source": [
    "%%d3 --queue\n",
    "var x = 2;"
   ]
  },
  {
   "cell_type": "markdown",
   "metadata": {},
   "source": [
    "#### Example: A Slider"
   ]
  },
  {
   "cell_type": "markdown",
   "metadata": {},
   "source": [
    "We select an SVG container, get its width and height, and place its origin at its center."
   ]
  },
  {
   "cell_type": "code",
   "execution_count": 5,
   "metadata": {},
   "outputs": [
    {
     "name": "stdout",
     "output_type": "stream",
     "text": [
      "Initialized d3_code container!\n",
      "Code added to D3 visualization queue ...\n"
     ]
    },
    {
     "data": {
      "application/javascript": [
       "requirejs.config({\n",
       "    paths: {\"d3-require\": \"//unpkg.com/d3-require@1.0.4/dist/d3-require.min\", \"topojson\": \"//unpkg.com/topojson-client@3?\", \"mathBox\": \"//cdn.rawgit.com/unconed/mathbox/eaeb8e15/build/mathbox-bundle\"}\n",
       "});\n",
       "\n",
       "requirejs(['d3-require', 'topojson', 'mathBox'], (d3, topojson) => {\n",
       "    d3.require(...['d3-array', 'd3-axis', 'd3-brush', 'd3-chord', 'd3-collection', 'd3-color', 'd3-contour', 'd3-dispatch', 'd3-drag', 'd3-dsv', 'd3-ease', 'd3-fetch', 'd3-force', 'd3-format', 'd3-geo', 'd3-hierarchy', 'd3-interpolate', 'd3-path', 'd3-polygon', 'd3-quadtree', 'd3-random', 'd3-scale', 'd3-scale-chromatic', 'd3-selection', 'd3-shape', 'd3-time', 'd3-time-format', 'd3-timer', 'd3-transition', 'd3-voronoi', 'd3-zoom']).then(d3 => {\n",
       "        // select svg container\n",
       "var svg = d3.select(\"svg\");\n",
       "\n",
       "// remove elements from SVG\n",
       "svg.selectAll(\"*\").remove();\n",
       "\n",
       "// get width, get height\n",
       "var width = +svg.node().getBoundingClientRect().width;\n",
       "var height = +svg.attr(\"height\");\n",
       "\n",
       "// create an svg subcontainer, translate to center\n",
       "var origin = svg.append(\"g\");\n",
       "var transform = \"translate(\" + width/2 + \",\" + height/2 + \")\";\n",
       "origin.attr(\"transform\", transform);\n",
       "    });\n",
       "});\n"
      ],
      "text/plain": [
       "<IPython.core.display.Javascript object>"
      ]
     },
     "metadata": {},
     "output_type": "display_data"
    }
   ],
   "source": [
    "%%d3 --reset --queue\n",
    "// select svg container\n",
    "var svg = d3.select(\"svg\");\n",
    "\n",
    "// remove elements from SVG\n",
    "svg.selectAll(\"*\").remove();\n",
    "\n",
    "// get width, get height\n",
    "var width = +svg.node().getBoundingClientRect().width;\n",
    "var height = +svg.attr(\"height\");\n",
    "\n",
    "// create an svg subcontainer, translate to center\n",
    "var origin = svg.append(\"g\");\n",
    "var transform = \"translate(\" + width/2 + \",\" + height/2 + \")\";\n",
    "origin.attr(\"transform\", transform);"
   ]
  },
  {
   "cell_type": "markdown",
   "metadata": {},
   "source": [
    "We add a horizontal axis, which is scaled, to give our slider a metric."
   ]
  },
  {
   "cell_type": "code",
   "execution_count": 6,
   "metadata": {},
   "outputs": [
    {
     "name": "stdout",
     "output_type": "stream",
     "text": [
      "Code added to D3 visualization queue ...\n"
     ]
    },
    {
     "data": {
      "application/javascript": [
       "requirejs.config({\n",
       "    paths: {\"d3-require\": \"//unpkg.com/d3-require@1.0.4/dist/d3-require.min\", \"topojson\": \"//unpkg.com/topojson-client@3?\", \"mathBox\": \"//cdn.rawgit.com/unconed/mathbox/eaeb8e15/build/mathbox-bundle\"}\n",
       "});\n",
       "\n",
       "requirejs(['d3-require', 'topojson', 'mathBox'], (d3, topojson) => {\n",
       "    d3.require(...['d3-array', 'd3-axis', 'd3-brush', 'd3-chord', 'd3-collection', 'd3-color', 'd3-contour', 'd3-dispatch', 'd3-drag', 'd3-dsv', 'd3-ease', 'd3-fetch', 'd3-force', 'd3-format', 'd3-geo', 'd3-hierarchy', 'd3-interpolate', 'd3-path', 'd3-polygon', 'd3-quadtree', 'd3-random', 'd3-scale', 'd3-scale-chromatic', 'd3-selection', 'd3-shape', 'd3-time', 'd3-time-format', 'd3-timer', 'd3-transition', 'd3-voronoi', 'd3-zoom']).then(d3 => {\n",
       "        // create linear scale\n",
       "var xScale = d3.scaleLinear()\n",
       "    .domain([-1, 1])\n",
       "    .range([-width/2 + width/5, width/2 - width/5]);\n",
       "\n",
       "// create axis, remove ticks\n",
       "var xAxis = d3.axisBottom(xScale)\n",
       "    .ticks(width/200)\n",
       "    .tickSize(0)\n",
       "    .tickPadding(15);\n",
       "    \n",
       "// style axis\n",
       "function xAxisStyled(g) {\n",
       "  g.call(xAxis);\n",
       "    \n",
       "  // style colour\n",
       "  g.selectAll(\".domain\")\n",
       "   .styles({\n",
       "       \"fill\": \"none\",\n",
       "       \"stroke\": \"#cfcfcf\",\n",
       "       \"stroke-width\": \"1\"\n",
       "   });\n",
       "\n",
       "  // prevent drag selection of tick labels\n",
       "  g.selectAll(\".tick text\")\n",
       "   .styles({\n",
       "       \"-webkit-user-select\": \"none\",\n",
       "       \"-moz-user-select\": \"none\",\n",
       "       \"-ms-user-select\": \"none\",\n",
       "       \"user-select\": \"none\"\n",
       "   })\n",
       "}\n",
       "\n",
       "// add axis to subcontainer\n",
       "origin.append(\"g\")\n",
       "    .call(xAxisStyled);\n",
       "    });\n",
       "});\n"
      ],
      "text/plain": [
       "<IPython.core.display.Javascript object>"
      ]
     },
     "metadata": {},
     "output_type": "display_data"
    }
   ],
   "source": [
    "%%d3 --queue\n",
    "// create linear scale\n",
    "var xScale = d3.scaleLinear()\n",
    "    .domain([-1, 1])\n",
    "    .range([-width/2 + width/5, width/2 - width/5]);\n",
    "\n",
    "// create axis, remove ticks\n",
    "var xAxis = d3.axisBottom(xScale)\n",
    "    .ticks(width/200)\n",
    "    .tickSize(0)\n",
    "    .tickPadding(15);\n",
    "    \n",
    "// style axis\n",
    "function xAxisStyled(g) {\n",
    "  g.call(xAxis);\n",
    "    \n",
    "  // style colour\n",
    "  g.selectAll(\".domain\")\n",
    "   .styles({\n",
    "       \"fill\": \"none\",\n",
    "       \"stroke\": \"#cfcfcf\",\n",
    "       \"stroke-width\": \"1\"\n",
    "   });\n",
    "\n",
    "  // prevent drag selection of tick labels\n",
    "  g.selectAll(\".tick text\")\n",
    "   .styles({\n",
    "       \"-webkit-user-select\": \"none\",\n",
    "       \"-moz-user-select\": \"none\",\n",
    "       \"-ms-user-select\": \"none\",\n",
    "       \"user-select\": \"none\"\n",
    "   })\n",
    "}\n",
    "\n",
    "// add axis to subcontainer\n",
    "origin.append(\"g\")\n",
    "    .call(xAxisStyled);"
   ]
  },
  {
   "cell_type": "markdown",
   "metadata": {},
   "source": [
    "A single node is specified, and represented in the SVG element with a circle. We also make this node draggable."
   ]
  },
  {
   "cell_type": "code",
   "execution_count": 7,
   "metadata": {},
   "outputs": [
    {
     "name": "stdout",
     "output_type": "stream",
     "text": [
      "Code added to D3 visualization queue ...\n"
     ]
    },
    {
     "data": {
      "application/javascript": [
       "requirejs.config({\n",
       "    paths: {\"d3-require\": \"//unpkg.com/d3-require@1.0.4/dist/d3-require.min\", \"topojson\": \"//unpkg.com/topojson-client@3?\", \"mathBox\": \"//cdn.rawgit.com/unconed/mathbox/eaeb8e15/build/mathbox-bundle\"}\n",
       "});\n",
       "\n",
       "requirejs(['d3-require', 'topojson', 'mathBox'], (d3, topojson) => {\n",
       "    d3.require(...['d3-array', 'd3-axis', 'd3-brush', 'd3-chord', 'd3-collection', 'd3-color', 'd3-contour', 'd3-dispatch', 'd3-drag', 'd3-dsv', 'd3-ease', 'd3-fetch', 'd3-force', 'd3-format', 'd3-geo', 'd3-hierarchy', 'd3-interpolate', 'd3-path', 'd3-polygon', 'd3-quadtree', 'd3-random', 'd3-scale', 'd3-scale-chromatic', 'd3-selection', 'd3-shape', 'd3-time', 'd3-time-format', 'd3-timer', 'd3-transition', 'd3-voronoi', 'd3-zoom']).then(d3 => {\n",
       "        // create node data\n",
       "var nodes = [{\"id\": 0}];\n",
       "\n",
       "// add node to subcontainer, set node attributes\n",
       "var node = origin.selectAll(\".node\")\n",
       "    .data(nodes)\n",
       "    .enter().append(\"circle\")\n",
       "            .attr(\"r\", d => d.radius ? d.radius : 8);\n",
       "        \n",
       "// set drag behaviours\n",
       "node.call((() => {\n",
       "    function dragstart(d) {\n",
       "        if (!d3.event.active) simulation.alpha(1).restart();\n",
       "        d.fx = d.x;\n",
       "    }\n",
       "    \n",
       "    function dragging(d) { d.fx = d3.event.x; }\n",
       "    \n",
       "    function dragend(d) {\n",
       "        if (!d3.event.active) simulation.alphaTarget(0);\n",
       "        d.fx = null;\n",
       "    }\n",
       "    \n",
       "    return d3.drag()\n",
       "        .on(\"start\", dragstart)\n",
       "        .on(\"drag\", dragging)\n",
       "        .on(\"end\", dragend);\n",
       "})());\n",
       "    });\n",
       "});\n"
      ],
      "text/plain": [
       "<IPython.core.display.Javascript object>"
      ]
     },
     "metadata": {},
     "output_type": "display_data"
    }
   ],
   "source": [
    "%%d3 --queue\n",
    "// create node data\n",
    "var nodes = [{\"id\": 0}];\n",
    "\n",
    "// add node to subcontainer, set node attributes\n",
    "var node = origin.selectAll(\".node\")\n",
    "    .data(nodes)\n",
    "    .enter().append(\"circle\")\n",
    "            .attr(\"r\", d => d.radius ? d.radius : 8);\n",
    "        \n",
    "// set drag behaviours\n",
    "node.call((() => {\n",
    "    function dragstart(d) {\n",
    "        if (!d3.event.active) simulation.alpha(1).restart();\n",
    "        d.fx = d.x;\n",
    "    }\n",
    "    \n",
    "    function dragging(d) { d.fx = d3.event.x; }\n",
    "    \n",
    "    function dragend(d) {\n",
    "        if (!d3.event.active) simulation.alphaTarget(0);\n",
    "        d.fx = null;\n",
    "    }\n",
    "    \n",
    "    return d3.drag()\n",
    "        .on(\"start\", dragstart)\n",
    "        .on(\"drag\", dragging)\n",
    "        .on(\"end\", dragend);\n",
    "})());"
   ]
  },
  {
   "cell_type": "markdown",
   "metadata": {},
   "source": [
    "We get a slider-like behaviour using `forceSimulation()`  from [`d3-force`](https://github.com/d3/d3-force).\n",
    "\n",
    "A small, nonnegative argument less than one is passed to `velocityDecay()` to minimize \"friction.\""
   ]
  },
  {
   "cell_type": "code",
   "execution_count": 8,
   "metadata": {},
   "outputs": [
    {
     "name": "stdout",
     "output_type": "stream",
     "text": [
      "Code added to D3 visualization queue ...\n"
     ]
    },
    {
     "data": {
      "application/javascript": [
       "requirejs.config({\n",
       "    paths: {\"d3-require\": \"//unpkg.com/d3-require@1.0.4/dist/d3-require.min\", \"topojson\": \"//unpkg.com/topojson-client@3?\", \"mathBox\": \"//cdn.rawgit.com/unconed/mathbox/eaeb8e15/build/mathbox-bundle\"}\n",
       "});\n",
       "\n",
       "requirejs(['d3-require', 'topojson', 'mathBox'], (d3, topojson) => {\n",
       "    d3.require(...['d3-array', 'd3-axis', 'd3-brush', 'd3-chord', 'd3-collection', 'd3-color', 'd3-contour', 'd3-dispatch', 'd3-drag', 'd3-dsv', 'd3-ease', 'd3-fetch', 'd3-force', 'd3-format', 'd3-geo', 'd3-hierarchy', 'd3-interpolate', 'd3-path', 'd3-polygon', 'd3-quadtree', 'd3-random', 'd3-scale', 'd3-scale-chromatic', 'd3-selection', 'd3-shape', 'd3-time', 'd3-time-format', 'd3-timer', 'd3-transition', 'd3-voronoi', 'd3-zoom']).then(d3 => {\n",
       "        // set force simulation attributes\n",
       "var simulation = d3.forceSimulation()\n",
       "                   .force(\"x\", d3.forceX().x(0))\n",
       "                   .alphaDecay(5e-3)\n",
       "                   .velocityDecay(1/5);\n",
       "simulation.nodes(nodes);\n",
       "    });\n",
       "});\n"
      ],
      "text/plain": [
       "<IPython.core.display.Javascript object>"
      ]
     },
     "metadata": {},
     "output_type": "display_data"
    }
   ],
   "source": [
    "%%d3 --queue\n",
    "// set force simulation attributes\n",
    "var simulation = d3.forceSimulation()\n",
    "                   .force(\"x\", d3.forceX().x(0))\n",
    "                   .alphaDecay(5e-3)\n",
    "                   .velocityDecay(1/5);\n",
    "simulation.nodes(nodes);"
   ]
  },
  {
   "cell_type": "markdown",
   "metadata": {},
   "source": [
    "A \"tick\" function bounds the movement of the node to its axis, and we keep track of its horizontal position.\n",
    "\n",
    "Changes to this position are pushed as text and colour to a Markdown cell."
   ]
  },
  {
   "cell_type": "code",
   "execution_count": 9,
   "metadata": {},
   "outputs": [
    {
     "name": "stdout",
     "output_type": "stream",
     "text": [
      "Code added to D3 visualization queue ...\n"
     ]
    },
    {
     "data": {
      "application/javascript": [
       "requirejs.config({\n",
       "    paths: {\"d3-require\": \"//unpkg.com/d3-require@1.0.4/dist/d3-require.min\", \"topojson\": \"//unpkg.com/topojson-client@3?\", \"mathBox\": \"//cdn.rawgit.com/unconed/mathbox/eaeb8e15/build/mathbox-bundle\"}\n",
       "});\n",
       "\n",
       "requirejs(['d3-require', 'topojson', 'mathBox'], (d3, topojson) => {\n",
       "    d3.require(...['d3-array', 'd3-axis', 'd3-brush', 'd3-chord', 'd3-collection', 'd3-color', 'd3-contour', 'd3-dispatch', 'd3-drag', 'd3-dsv', 'd3-ease', 'd3-fetch', 'd3-force', 'd3-format', 'd3-geo', 'd3-hierarchy', 'd3-interpolate', 'd3-path', 'd3-polygon', 'd3-quadtree', 'd3-random', 'd3-scale', 'd3-scale-chromatic', 'd3-selection', 'd3-shape', 'd3-time', 'd3-time-format', 'd3-timer', 'd3-transition', 'd3-voronoi', 'd3-zoom']).then(d3 => {\n",
       "        // move node with time, get node position along axis\n",
       "simulation.on(\"tick\", () => {\n",
       "    node.attr(\"cx\", d => Math.max(-width/2 + width/5 - 8, Math.min(width/2 - width/5 + 8, d.x)))\n",
       "    window.nodeXPosition = node.attr(\"cx\") / (3*width/10);\n",
       "    \n",
       "    // select markdown cell\n",
       "    var span = d3.select(\"#listener\")\n",
       "    \n",
       "    // interpolate colour scheme from red to white to blue\n",
       "    var interpolator = d3.scaleLinear()\n",
       "                         .domain([-1, 0, 1])\n",
       "                         .range([\n",
       "                             \"rgba(255, 0, 0, 0.3)\",\n",
       "                             \"rgba(255, 255, 255, 1)\",\n",
       "                             \"rgba(0, 0, 255, 0.3)\"\n",
       "                         ])\n",
       "                         .interpolate(d3.interpolateRgb.gamma(2.2));\n",
       "    \n",
       "    // set markdown cell text and color\n",
       "    span.text(window.nodeXPosition.toFixed(2));\n",
       "    span.style('background-color', interpolator(window.nodeXPosition));\n",
       "});\n",
       "    });\n",
       "});\n"
      ],
      "text/plain": [
       "<IPython.core.display.Javascript object>"
      ]
     },
     "metadata": {},
     "output_type": "display_data"
    }
   ],
   "source": [
    "%%d3 --queue\n",
    "// move node with time, get node position along axis\n",
    "simulation.on(\"tick\", () => {\n",
    "    node.attr(\"cx\", d => Math.max(-width/2 + width/5 - 8, Math.min(width/2 - width/5 + 8, d.x)))\n",
    "    window.nodeXPosition = node.attr(\"cx\") / (3*width/10);\n",
    "    \n",
    "    // select markdown cell\n",
    "    var span = d3.select(\"#listener\")\n",
    "    \n",
    "    // interpolate colour scheme from red to white to blue\n",
    "    var interpolator = d3.scaleLinear()\n",
    "                         .domain([-1, 0, 1])\n",
    "                         .range([\n",
    "                             \"rgba(255, 0, 0, 0.3)\",\n",
    "                             \"rgba(255, 255, 255, 1)\",\n",
    "                             \"rgba(0, 0, 255, 0.3)\"\n",
    "                         ])\n",
    "                         .interpolate(d3.interpolateRgb.gamma(2.2));\n",
    "    \n",
    "    // set markdown cell text and color\n",
    "    span.text(window.nodeXPosition.toFixed(2));\n",
    "    span.style('background-color', interpolator(window.nodeXPosition));\n",
    "});"
   ]
  },
  {
   "cell_type": "markdown",
   "metadata": {},
   "source": [
    "### 3. Create a class instance"
   ]
  },
  {
   "cell_type": "markdown",
   "metadata": {},
   "source": [
    "We have defined two classes for handling our code: `D3(name)` and `MathBox(name)`. Here `name` is a string. Each class instance represents a distinct visualization element, like a _plot_ or a _slider_. The `D3` class has two methods, `canvas(height=None)` and `svg(height=None)`, for displaying D3 outputs.\n",
    "\n",
    "When displayed, an instance finds and gathers its dependencies, whereupon it executes the visualization stack."
   ]
  },
  {
   "cell_type": "markdown",
   "metadata": {},
   "source": [
    "We create a uniquely named D3 object class instance, and append an SVG element. A `height` parameter is specified."
   ]
  },
  {
   "cell_type": "code",
   "execution_count": 10,
   "metadata": {},
   "outputs": [
    {
     "name": "stdout",
     "output_type": "stream",
     "text": [
      "New D3 object \"slider\" added to instances ...\n"
     ]
    }
   ],
   "source": [
    "slider = D3(\"slider\", silent=False).svg(height=100)"
   ]
  },
  {
   "cell_type": "markdown",
   "metadata": {},
   "source": [
    "### 4. Display class instances"
   ]
  },
  {
   "cell_type": "markdown",
   "metadata": {},
   "source": [
    "Finally, we pass a list containing the name of our class instance:"
   ]
  },
  {
   "cell_type": "code",
   "execution_count": 11,
   "metadata": {},
   "outputs": [
    {
     "name": "stdout",
     "output_type": "stream",
     "text": [
      "Found D3 instance of \"slider\" ...\n",
      "Requiring \"d3-selection-multi\" ...\n"
     ]
    },
    {
     "data": {
      "application/javascript": [
       "requirejs.config({\n",
       "    paths: {\"d3-require\": \"//unpkg.com/d3-require@1.0.4/dist/d3-require.min\", \"topojson\": \"//unpkg.com/topojson-client@3?\", \"mathBox\": \"//cdn.rawgit.com/unconed/mathbox/eaeb8e15/build/mathbox-bundle\"}\n",
       "});\n",
       "\n",
       "requirejs(['d3-require', 'topojson', 'mathBox'], (d3, topojson) => {\n",
       "    d3.require(...['d3-array', 'd3-axis', 'd3-brush', 'd3-chord', 'd3-collection', 'd3-color', 'd3-contour', 'd3-dispatch', 'd3-drag', 'd3-dsv', 'd3-ease', 'd3-fetch', 'd3-force', 'd3-format', 'd3-geo', 'd3-hierarchy', 'd3-interpolate', 'd3-path', 'd3-polygon', 'd3-quadtree', 'd3-random', 'd3-scale', 'd3-scale-chromatic', 'd3-selection', 'd3-shape', 'd3-time', 'd3-time-format', 'd3-timer', 'd3-transition', 'd3-voronoi', 'd3-zoom', 'd3-selection-multi']).then(d3 => {\n",
       "        d3.select(element[0]).append(\"svg\")\n",
       "    .attr(\"width\", \"100%\")\n",
       "    .attr(\"height\", 100);\n",
       "// select svg container\n",
       "var svg = d3.select(\"svg\");\n",
       "\n",
       "// remove elements from SVG\n",
       "svg.selectAll(\"*\").remove();\n",
       "\n",
       "// get width, get height\n",
       "var width = +svg.node().getBoundingClientRect().width;\n",
       "var height = +svg.attr(\"height\");\n",
       "\n",
       "// create an svg subcontainer, translate to center\n",
       "var origin = svg.append(\"g\");\n",
       "var transform = \"translate(\" + width/2 + \",\" + height/2 + \")\";\n",
       "origin.attr(\"transform\", transform);\n",
       "\n",
       "// create linear scale\n",
       "var xScale = d3.scaleLinear()\n",
       "    .domain([-1, 1])\n",
       "    .range([-width/2 + width/5, width/2 - width/5]);\n",
       "\n",
       "// create axis, remove ticks\n",
       "var xAxis = d3.axisBottom(xScale)\n",
       "    .ticks(width/200)\n",
       "    .tickSize(0)\n",
       "    .tickPadding(15);\n",
       "    \n",
       "// style axis\n",
       "function xAxisStyled(g) {\n",
       "  g.call(xAxis);\n",
       "    \n",
       "  // style colour\n",
       "  g.selectAll(\".domain\")\n",
       "   .styles({\n",
       "       \"fill\": \"none\",\n",
       "       \"stroke\": \"#cfcfcf\",\n",
       "       \"stroke-width\": \"1\"\n",
       "   });\n",
       "\n",
       "  // prevent drag selection of tick labels\n",
       "  g.selectAll(\".tick text\")\n",
       "   .styles({\n",
       "       \"-webkit-user-select\": \"none\",\n",
       "       \"-moz-user-select\": \"none\",\n",
       "       \"-ms-user-select\": \"none\",\n",
       "       \"user-select\": \"none\"\n",
       "   })\n",
       "}\n",
       "\n",
       "// add axis to subcontainer\n",
       "origin.append(\"g\")\n",
       "    .call(xAxisStyled);\n",
       "\n",
       "// create node data\n",
       "var nodes = [{\"id\": 0}];\n",
       "\n",
       "// add node to subcontainer, set node attributes\n",
       "var node = origin.selectAll(\".node\")\n",
       "    .data(nodes)\n",
       "    .enter().append(\"circle\")\n",
       "            .attr(\"r\", d => d.radius ? d.radius : 8);\n",
       "        \n",
       "// set drag behaviours\n",
       "node.call((() => {\n",
       "    function dragstart(d) {\n",
       "        if (!d3.event.active) simulation.alpha(1).restart();\n",
       "        d.fx = d.x;\n",
       "    }\n",
       "    \n",
       "    function dragging(d) { d.fx = d3.event.x; }\n",
       "    \n",
       "    function dragend(d) {\n",
       "        if (!d3.event.active) simulation.alphaTarget(0);\n",
       "        d.fx = null;\n",
       "    }\n",
       "    \n",
       "    return d3.drag()\n",
       "        .on(\"start\", dragstart)\n",
       "        .on(\"drag\", dragging)\n",
       "        .on(\"end\", dragend);\n",
       "})());\n",
       "\n",
       "// set force simulation attributes\n",
       "var simulation = d3.forceSimulation()\n",
       "                   .force(\"x\", d3.forceX().x(0))\n",
       "                   .alphaDecay(5e-3)\n",
       "                   .velocityDecay(1/5);\n",
       "simulation.nodes(nodes);\n",
       "\n",
       "// move node with time, get node position along axis\n",
       "simulation.on(\"tick\", () => {\n",
       "    node.attr(\"cx\", d => Math.max(-width/2 + width/5 - 8, Math.min(width/2 - width/5 + 8, d.x)))\n",
       "    window.nodeXPosition = node.attr(\"cx\") / (3*width/10);\n",
       "    \n",
       "    // select markdown cell\n",
       "    var span = d3.select(\"#listener\")\n",
       "    \n",
       "    // interpolate colour scheme from red to white to blue\n",
       "    var interpolator = d3.scaleLinear()\n",
       "                         .domain([-1, 0, 1])\n",
       "                         .range([\n",
       "                             \"rgba(255, 0, 0, 0.3)\",\n",
       "                             \"rgba(255, 255, 255, 1)\",\n",
       "                             \"rgba(0, 0, 255, 0.3)\"\n",
       "                         ])\n",
       "                         .interpolate(d3.interpolateRgb.gamma(2.2));\n",
       "    \n",
       "    // set markdown cell text and color\n",
       "    span.text(window.nodeXPosition.toFixed(2));\n",
       "    span.style('background-color', interpolator(window.nodeXPosition));\n",
       "});\n",
       "\n",
       "    });\n",
       "});\n"
      ],
      "text/plain": [
       "<IPython.core.display.Javascript object>"
      ]
     },
     "metadata": {},
     "output_type": "display_data"
    }
   ],
   "source": [
    "slider.require(\"d3-selection-multi\")\n",
    "Vis(slider, silent=False);"
   ]
  },
  {
   "cell_type": "markdown",
   "metadata": {},
   "source": [
    "Try dragging the circle! The Markdown cell below listens for changes to its horizontal position."
   ]
  },
  {
   "cell_type": "markdown",
   "metadata": {},
   "source": [
    "Current slider value: <span id=\"listener\"></span>"
   ]
  },
  {
   "cell_type": "markdown",
   "metadata": {},
   "source": [
    "![](images/Callysto_Notebook-Banners_Bottom.jpg)"
   ]
  }
 ],
 "metadata": {
  "kernelspec": {
   "display_name": "Python 3",
   "language": "python",
   "name": "python3"
  },
  "language_info": {
   "codemirror_mode": {
    "name": "ipython",
    "version": 3
   },
   "file_extension": ".py",
   "mimetype": "text/x-python",
   "name": "python",
   "nbconvert_exporter": "python",
   "pygments_lexer": "ipython3",
   "version": "3.6.1"
  }
 },
 "nbformat": 4,
 "nbformat_minor": 2
}
